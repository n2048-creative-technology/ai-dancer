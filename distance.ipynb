{
 "cells": [
  {
   "cell_type": "code",
   "execution_count": 1,
   "metadata": {},
   "outputs": [],
   "source": "import tensorflow as tf\nimport numpy as np\nimport matplotlib.pyplot as plt\nimport os"
  },
  {
   "cell_type": "code",
   "execution_count": 2,
   "metadata": {},
   "outputs": [],
   "source": "dataset1 = tf.data.TextLineDataset('data/2019-10-04_12-03-39.mp4-57.mp4.txt')\ndataset2 = tf.data.TextLineDataset('data/2019-10-04_12-03-39.mp4-78.mp4.txt')"
  },
  {
   "cell_type": "code",
   "execution_count": 3,
   "metadata": {},
   "outputs": [
    {
     "data": {
      "text/plain": "(24, 17, 2)"
     },
     "execution_count": 3,
     "metadata": {},
     "output_type": "execute_result"
    }
   ],
   "source": "## Format Sequence of keypoints\ndata = []\nlengths = []\nfor line in dataset1.take(10000):\n    l = line.numpy().split(' ')\n    if len(l) == 59:\n        data.append(l)\n    \nfiles = [d[0] for d in data]\na = [ np.array((d[25::2],d[26::2]), dtype=float).transpose() for d in data]\n\n# translate keypoints based on  nose position (origin = nose at first frame)\norigin = a[0][0]\na = a - origin\nnp.shape(a)"
  },
  {
   "cell_type": "code",
   "execution_count": null,
   "metadata": {},
   "outputs": [],
   "source": ""
  },
  {
   "cell_type": "code",
   "execution_count": 4,
   "metadata": {},
   "outputs": [
    {
     "data": {
      "text/plain": "(24, 17, 2)"
     },
     "execution_count": 4,
     "metadata": {},
     "output_type": "execute_result"
    }
   ],
   "source": "## Format Sequence of keypoints\ndata = []\nlengths = []\nfor line in dataset2.take(10000):\n    l = line.numpy().split(' ')\n    if len(l) == 59:\n        data.append(l)\n    \nfiles = [d[0] for d in data]\nb = [ np.array((d[25::2],d[26::2]), dtype=float).transpose() for d in data]\n\n# translate keypoints based on  nose position (origin = nose at first frame)\norigin = b[0][0]\nb = b - origin\nnp.shape(b)"
  },
  {
   "cell_type": "code",
   "execution_count": 5,
   "metadata": {},
   "outputs": [
    {
     "name": "stdout",
     "output_type": "stream",
     "text": "((24, 17, 2), (24, 17, 2))\n"
    }
   ],
   "source": "print(np.shape(a), np.shape(b))"
  },
  {
   "cell_type": "code",
   "execution_count": 14,
   "metadata": {},
   "outputs": [],
   "source": "# np.linalg.norm(a-b)\n\nnorm = lambda x: np.linalg.norm(x)\n\ndef distance(_a,_b): \n    \n    ctc = 0\n    for i in range(len(_a)):\n        dab_min = np.inf\n        k = 0\n        for j in range(len(_b)):\n#             dab = np.linalg.norm(xa-xb)\n            dab = np.sum(map(norm, (_a[i]-_b[j])))           \n            if dab == dab_min and abs(j-i)<abs(k-i):                \n                k = j\n            elif dab < dab_min:\n                dab_min = dab\n                k = j\n\n        # \"k\" is the index of the element in \"b\", closest to the current element of \"a\"\n        # \"b[k]\" is the cosest element from \"b\" to the current element of \"a\" \n        dba_min = np.inf\n        n = 0\n        for j in range(len(_a)):\n#             dba = np.linalg.norm(xaa-xbb)\n            dba = np.sum(map(norm, (_a[j]-_b[k])))  \n            if dba == dba_min and abs(j-k)<abs(n-k):                \n                n = j\n            elif(dba < dba_min):\n                dba_min = dba\n                n = j\n        ## if returned to the same element, ai should be equal to i\n        ctc += abs(i-n)\n        \n#         print(i,k,n)\n\n    return ctc"
  },
  {
   "cell_type": "code",
   "execution_count": null,
   "metadata": {},
   "outputs": [],
   "source": ""
  },
  {
   "cell_type": "code",
   "execution_count": 15,
   "metadata": {},
   "outputs": [
    {
     "data": {
      "text/plain": "103"
     },
     "execution_count": 15,
     "metadata": {},
     "output_type": "execute_result"
    }
   ],
   "source": "distance(b,a)"
  },
  {
   "cell_type": "code",
   "execution_count": null,
   "metadata": {},
   "outputs": [],
   "source": ""
  },
  {
   "cell_type": "code",
   "execution_count": null,
   "metadata": {},
   "outputs": [],
   "source": ""
  }
 ],
 "metadata": {
  "kernelspec": {
   "display_name": "Python 2",
   "language": "python",
   "name": "python2"
  },
  "language_info": {
   "codemirror_mode": {
    "name": "ipython",
    "version": 2
   },
   "file_extension": ".py",
   "mimetype": "text/x-python",
   "name": "python",
   "nbconvert_exporter": "python",
   "pygments_lexer": "ipython2",
   "version": "2.7.17"
  }
 },
 "nbformat": 4,
 "nbformat_minor": 4
}
