{
 "cells": [
  {
   "cell_type": "code",
   "execution_count": 124,
   "metadata": {},
   "outputs": [],
   "source": "import tensorflow as tf\nimport numpy as np\nimport matplotlib.pyplot as plt\nimport os"
  },
  {
   "cell_type": "code",
   "execution_count": 125,
   "metadata": {},
   "outputs": [],
   "source": "dataset1 = tf.data.TextLineDataset('data/2019-10-04_12-03-39.mp4-57.mp4.txt')\ndataset2 = tf.data.TextLineDataset('data/2019-10-04_12-03-39.mp4-78.mp4.txt')"
  },
  {
   "cell_type": "code",
   "execution_count": 154,
   "metadata": {},
   "outputs": [
    {
     "data": {
      "text/plain": "(24, 17, 2)"
     },
     "execution_count": 154,
     "metadata": {},
     "output_type": "execute_result"
    }
   ],
   "source": "## Format Sequence of keypoints\ndata = []\nlengths = []\nfor line in dataset1.take(10000):\n    l = line.numpy().split(' ')\n    if len(l) == 59:\n        data.append(l)\n    \nfiles = [d[0] for d in data]\na = [ np.array((d[25::2],d[26::2]), dtype=float).transpose() for d in data]\n\n# translate keypoints based on  nose position (origin = nose at first frame)\norigin = a[0][0]\na = a - origin\nnp.shape(a)"
  },
  {
   "cell_type": "code",
   "execution_count": null,
   "metadata": {},
   "outputs": [],
   "source": ""
  },
  {
   "cell_type": "code",
   "execution_count": 127,
   "metadata": {},
   "outputs": [
    {
     "data": {
      "text/plain": "(24, 17, 2)"
     },
     "execution_count": 127,
     "metadata": {},
     "output_type": "execute_result"
    }
   ],
   "source": "## Format Sequence of keypoints\ndata = []\nlengths = []\nfor line in dataset2.take(10000):\n    l = line.numpy().split(' ')\n    if len(l) == 59:\n        data.append(l)\n    \nfiles = [d[0] for d in data]\nb = [ np.array((d[25::2],d[26::2]), dtype=float).transpose() for d in data]\n\n# translate keypoints based on  nose position (origin = nose at first frame)\norigin = b[0][0]\nb = b - origin\nnp.shape(b)"
  },
  {
   "cell_type": "code",
   "execution_count": 120,
   "metadata": {},
   "outputs": [
    {
     "name": "stdout",
     "output_type": "stream",
     "text": "((24, 17, 2), (24, 17, 2))\n"
    }
   ],
   "source": "print(np.shape(a), np.shape(b))"
  },
  {
   "cell_type": "code",
   "execution_count": 202,
   "metadata": {},
   "outputs": [],
   "source": "# np.linalg.norm(a-b)\n\nnorm = lambda x: np.linalg.norm(x)\n\ndef distance(a,b): \n    ctc = 0\n    for i in range(len(a)):\n        dab_min = np.inf\n        k = 0\n        for j in range(len(b)):\n#             dab = np.linalg.norm(xa-xb)\n            dab = np.sum(map(norm, (a[i]-b[j])))           \n            if dab == dab_min and abs(j-i)<abs(k-i):                \n                k = j\n            elif dab < dab_min:\n                dab_min = dab\n                k = j\n\n        # \"k\" is the index of the element in \"b\", closest to the current element of \"a\"\n        # \"b[k]\" is the cosest element from \"b\" to the current element of \"a\" \n        dba_min = np.inf\n        n = 0\n        for j in range(len(a)):\n#             dba = np.linalg.norm(xaa-xbb)\n            dba = np.sum(map(norm, (a[j]-b[k])))  \n            if dba == dba_min and abs(j-k)<abs(n-k):                \n                n = j\n            elif(dba < dba_min):\n                dba_min = dba\n                n = j\n        ## if returned to the same element, ai should be equal to i\n        ctc += abs(i-n)\n        \n        print(i,k,n)\n        \n\n    return ctc"
  },
  {
   "cell_type": "code",
   "execution_count": null,
   "metadata": {},
   "outputs": [],
   "source": ""
  },
  {
   "cell_type": "code",
   "execution_count": 205,
   "metadata": {},
   "outputs": [
    {
     "name": "stdout",
     "output_type": "stream",
     "text": "(0, 0, 0)\n(1, 1, 1)\n(2, 2, 2)\n(3, 3, 3)\n(4, 4, 4)\n(5, 5, 5)\n(6, 6, 6)\n(7, 7, 7)\n(8, 8, 8)\n(9, 9, 9)\n(10, 10, 10)\n(11, 11, 11)\n(12, 12, 12)\n(13, 13, 13)\n(14, 14, 14)\n(15, 15, 15)\n(16, 16, 16)\n(17, 17, 17)\n(18, 18, 18)\n(19, 19, 19)\n(20, 20, 20)\n(21, 21, 21)\n(22, 22, 22)\n(23, 23, 23)\n"
    },
    {
     "data": {
      "text/plain": "0"
     },
     "execution_count": 205,
     "metadata": {},
     "output_type": "execute_result"
    }
   ],
   "source": "distance(b,b)"
  },
  {
   "cell_type": "code",
   "execution_count": 193,
   "metadata": {},
   "outputs": [
    {
     "data": {
      "text/plain": "array([[  0.   ,   0.   ],\n       [  0.544, -20.815],\n       [ 17.309, -24.664],\n       [-12.438, -11.039],\n       [ 30.868,  -9.565],\n       [-20.682,  40.864],\n       [ 44.202,  39.956],\n       [-20.596, 148.206],\n       [ 70.717, 150.113],\n       [ 51.868, 232.854],\n       [ 84.972, 233.75 ],\n       [  3.498, 223.532],\n       [ 41.842, 220.89 ],\n       [ -4.689, 280.696],\n       [ -7.032, 281.487],\n       [ 19.881, 195.975],\n       [ 30.899, 195.133]])"
     },
     "execution_count": 193,
     "metadata": {},
     "output_type": "execute_result"
    }
   ],
   "source": "a[1]"
  },
  {
   "cell_type": "code",
   "execution_count": 194,
   "metadata": {},
   "outputs": [
    {
     "data": {
      "text/plain": "array([[  0.   ,   0.   ],\n       [  0.544, -20.815],\n       [ 17.309, -24.664],\n       [-12.438, -11.039],\n       [ 30.868,  -9.565],\n       [-20.682,  40.864],\n       [ 44.202,  39.956],\n       [-20.596, 148.206],\n       [ 70.717, 150.113],\n       [ 51.868, 232.854],\n       [ 84.972, 233.75 ],\n       [  3.498, 223.532],\n       [ 41.842, 220.89 ],\n       [ -4.689, 280.696],\n       [ -7.032, 281.487],\n       [ 19.881, 195.975],\n       [ 30.899, 195.133]])"
     },
     "execution_count": 194,
     "metadata": {},
     "output_type": "execute_result"
    }
   ],
   "source": "a[0]"
  },
  {
   "cell_type": "code",
   "execution_count": null,
   "metadata": {},
   "outputs": [],
   "source": ""
  },
  {
   "cell_type": "code",
   "execution_count": null,
   "metadata": {},
   "outputs": [],
   "source": ""
  },
  {
   "cell_type": "code",
   "execution_count": null,
   "metadata": {},
   "outputs": [],
   "source": ""
  },
  {
   "cell_type": "code",
   "execution_count": null,
   "metadata": {},
   "outputs": [],
   "source": ""
  },
  {
   "cell_type": "code",
   "execution_count": null,
   "metadata": {},
   "outputs": [],
   "source": ""
  }
 ],
 "metadata": {
  "kernelspec": {
   "display_name": "Python 2",
   "language": "python",
   "name": "python2"
  },
  "language_info": {
   "codemirror_mode": {
    "name": "ipython",
    "version": 2
   },
   "file_extension": ".py",
   "mimetype": "text/x-python",
   "name": "python",
   "nbconvert_exporter": "python",
   "pygments_lexer": "ipython2",
   "version": "2.7.17"
  }
 },
 "nbformat": 4,
 "nbformat_minor": 4
}
